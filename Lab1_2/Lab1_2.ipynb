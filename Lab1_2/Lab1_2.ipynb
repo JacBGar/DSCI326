{
 "cells": [
  {
   "cell_type": "code",
   "execution_count": 5,
   "id": "ac91b562-1f28-414d-9385-90c2f58b685d",
   "metadata": {},
   "outputs": [],
   "source": [
    "import polars as pl\n",
    "import pandas as pd\n",
    "\n",
    "df = pl.read_csv(\"./health_survey.csv\")\n",
    "reverse_df = pd.read_csv(\"./ReverseCodingItems.csv\")\n",
    "\n",
    "reversed_df = pl.from_pandas(reverse_df)\n",
    "\n",
    "df = df.with_columns([pl.col(\"\").cast(pl.Utf8).alias(\"Unnamed_Column\")])\n",
    "\n",
    "df = df.join(reversed_df, how=\"left\", left_on=\"Unnamed_Column\", right_on=\"Column Name\")\n",
    "\n",
    "df = df.with_columns([\n",
    "    pl.when(pl.col(\"Needs Reverse Coding?\") == \"Yes\")\n",
    "    .then(pl.lit(True))\n",
    "    .otherwise(pl.lit(False))\n",
    "    .alias(\"Needs Reverse\")\n",
    "])\n",
    "\n",
    "response_columns = [col for col in df.columns if col.startswith('F')]\n",
    "\n",
    "for col in response_columns:\n",
    "    df = df.with_columns([\n",
    "        pl.when(pl.col(col) == \"Strongly Disagree\").then(1)\n",
    "        .when(pl.col(col) == \"Somewhat Disagree\").then(2)\n",
    "        .when(pl.col(col) == \"Neither Agree nor Disagree\").then(3)\n",
    "        .when(pl.col(col) == \"Somewhat Agree\").then(4)\n",
    "        .when(pl.col(col) == \"Strongly Agree\").then(5)\n",
    "        .alias(f\"{col}_Temp_Coded\"),\n",
    "        \n",
    "        pl.when(pl.col(col) == \"Strongly Disagree\").then(5)\n",
    "        .when(pl.col(col) == \"Somewhat Disagree\").then(4)\n",
    "        .when(pl.col(col) == \"Neither Agree nor Disagree\").then(3)\n",
    "        .when(pl.col(col) == \"Somewhat Agree\").then(2)\n",
    "        .when(pl.col(col) == \"Strongly Agree\").then(1)\n",
    "        .alias(f\"{col}_Temp_Reversed\")\n",
    "    ])\n",
    "\n",
    "for col in response_columns:\n",
    "    df = df.with_columns([\n",
    "        pl.when(pl.col(\"Needs Reverse\") == True)\n",
    "        .then(pl.col(f\"{col}_Temp_Reversed\"))\n",
    "        .otherwise(pl.col(f\"{col}_Temp_Coded\"))\n",
    "        .alias(f\"{col}_Recoded\")\n",
    "    ])\n",
    "\n",
    "df_stacked = df.unpivot(\n",
    "    [f\"{col}_Recoded\" for col in response_columns],\n",
    "    index=[\"Unnamed_Column\"]\n",
    ").rename({\"variable\": \"Question_Type\", \"value\": \"Recoded Value\"})\n",
    "\n",
    "df_aggregated = df_stacked.group_by(\"Question_Type\").agg(\n",
    "    pl.col(\"Recoded Value\").mean().alias(\"Mean Recoded Value\")\n",
    ")"
   ]
  },
  {
   "cell_type": "code",
   "execution_count": 7,
   "id": "e5777aad-d47b-42c0-9b21-a4dc834c9270",
   "metadata": {},
   "outputs": [],
   "source": [
    "df_aggregated.write_csv('./health_survey_summary.csv', separator=\",\")"
   ]
  },
  {
   "cell_type": "code",
   "execution_count": null,
   "id": "a1a15f3d-48ad-4084-acc5-aa152e8e7598",
   "metadata": {},
   "outputs": [],
   "source": []
  }
 ],
 "metadata": {
  "kernelspec": {
   "display_name": "Python 3 (ipykernel)",
   "language": "python",
   "name": "python3"
  },
  "language_info": {
   "codemirror_mode": {
    "name": "ipython",
    "version": 3
   },
   "file_extension": ".py",
   "mimetype": "text/x-python",
   "name": "python",
   "nbconvert_exporter": "python",
   "pygments_lexer": "ipython3",
   "version": "3.12.4"
  }
 },
 "nbformat": 4,
 "nbformat_minor": 5
}
