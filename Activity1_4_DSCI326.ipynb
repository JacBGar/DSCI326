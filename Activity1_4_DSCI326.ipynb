{
 "cells": [
  {
   "cell_type": "markdown",
   "metadata": {
    "colab_type": "text",
    "id": "view-in-github"
   },
   "source": [
    "<a href=\"https://colab.research.google.com/github/JacBGar/DSCI326/blob/main/Activity1_4_DSCI326.ipynb\" target=\"_parent\"><img src=\"https://colab.research.google.com/assets/colab-badge.svg\" alt=\"Open In Colab\"/></a>"
   ]
  },
  {
   "cell_type": "code",
   "execution_count": 1,
   "metadata": {
    "colab": {
     "base_uri": "https://localhost:8080/",
     "height": 343
    },
    "id": "zaSfN7umTJRF",
    "outputId": "a23f2464-c949-435d-e236-00f1ae1a384d"
   },
   "outputs": [
    {
     "name": "stderr",
     "output_type": "stream",
     "text": [
      "\n",
      "Attaching package: ‘dplyr’\n",
      "\n",
      "\n",
      "The following objects are masked from ‘package:stats’:\n",
      "\n",
      "    filter, lag\n",
      "\n",
      "\n",
      "The following objects are masked from ‘package:base’:\n",
      "\n",
      "    intersect, setdiff, setequal, union\n",
      "\n",
      "\n"
     ]
    },
    {
     "ename": "ERROR",
     "evalue": "Error in library(clinfun): there is no package called ‘clinfun’\n",
     "output_type": "error",
     "traceback": [
      "Error in library(clinfun): there is no package called ‘clinfun’\nTraceback:\n",
      "1. library(clinfun)"
     ]
    }
   ],
   "source": [
    "library(dplyr)\n",
    "library(ggplot2)\n",
    "library(readr)\n",
    "library(clinfun)\n",
    "\n",
    "df <- read_csv(\"no_sensitive_Secondary+Traumatic+Stress+and+its+Effects+on+Nurse+Faculty_February+1,+2022_16.37.csv\")  # Replace with your file path\n",
    "\n",
    "df <- df %>% mutate(Participant_Number = row_number())\n",
    "\n",
    "q41_mapping <- c(\"Never\" = 1, \"Rarely\" = 2, \"Occasionally\" = 3, \"Often\" = 4, \"Very Often\" = 5)\n",
    "q39_mapping <- c(\"None\" = 1, \"A Little\" = 2, \"Some\" = 3, \"A Lot\" = 4, \"A Great Deal\" = 5)\n",
    "\n",
    "df <- df %>%\n",
    "  mutate(across(starts_with(\"Q39_\"), ~ as.numeric(q39_mapping[.]))) %>%\n",
    "  mutate(across(starts_with(\"Q41_\"), ~ as.numeric(q41_mapping[.])))\n",
    "\n",
    "q41_columns <- paste0(\"Q41_\", 1:17)\n",
    "df <- df %>%\n",
    "  rowwise() %>%\n",
    "  mutate(STS = sum(c_across(all_of(q41_columns)), na.rm = TRUE)) %>%\n",
    "  ungroup()\n",
    "\n",
    "df <- df %>%\n",
    "  mutate(STS_Category = case_when(\n",
    "    STS <= 27 ~ \"Little or No STS\",\n",
    "    STS >= 28 & STS <= 37 ~ \"Mild STS\",\n",
    "    STS >= 38 & STS <= 43 ~ \"Moderate STS\",\n",
    "    STS >= 44 & STS <= 48 ~ \"High STS\",\n",
    "    STS >= 49 ~ \"Severe STS\"\n",
    "  ))\n",
    "\n",
    "q39_columns <- paste0(\"Q39_\", 1:7)\n",
    "df <- df %>%\n",
    "  rowwise() %>%\n",
    "  mutate(`Functional Impairment` = sum(c_across(all_of(q39_columns)), na.rm = TRUE)) %>%\n",
    "  ungroup()\n",
    "\n",
    "summary_table <- df %>%\n",
    "  group_by(STS_Category) %>%\n",
    "  summarise(Mean_Functional_Impairment = mean(`Functional Impairment`, na.rm = TRUE)) %>%\n",
    "  arrange(factor(STS_Category, levels = c(\"Little or No STS\", \"Mild STS\", \"Moderate STS\", \"High STS\", \"Severe STS\")))\n",
    "\n",
    "print(summary_table)\n",
    "\n",
    "ggplot(df, aes(x = factor(STS_Category, levels = c(\"Little or No STS\", \"Mild STS\", \"Moderate STS\", \"High STS\", \"Severe STS\")), y = `Functional Impairment`)) +\n",
    "  geom_boxplot(fill = \"lightblue\") +\n",
    "  theme_minimal() +\n",
    "  labs(title = \"Functional Impairment Scores by STS Category\",\n",
    "       x = \"STS Category\",\n",
    "       y = \"Functional Impairment Score\") +\n",
    "  theme(plot.title = element_text(hjust = 0.5))\n",
    "\n",
    "df <- df %>%\n",
    "  mutate(STS_Category = factor(STS_Category,\n",
    "                               levels = c(\"Little or No STS\", \"Mild STS\",\n",
    "                                          \"Moderate STS\", \"High STS\", \"Severe STS\"),\n",
    "                               ordered = TRUE))\n",
    "\n",
    "jt_test <- jonckheere.test(\n",
    "  x = df$`Functional Impairment`,\n",
    "  g = df$STS_Category,\n",
    "  alternative = \"increasing\"\n",
    ")\n",
    "\n",
    "print(jt_test)"
   ]
  },
  {
   "cell_type": "code",
   "execution_count": null,
   "metadata": {
    "id": "iKI4HmZVYOkF"
   },
   "outputs": [],
   "source": []
  }
 ],
 "metadata": {
  "colab": {
   "authorship_tag": "ABX9TyMu/LUerYs5cATQ4cX1YigC",
   "include_colab_link": true,
   "provenance": []
  },
  "kernelspec": {
   "display_name": "Python 3 (ipykernel)",
   "language": "python",
   "name": "python3"
  },
  "language_info": {
   "codemirror_mode": {
    "name": "ipython",
    "version": 3
   },
   "file_extension": ".py",
   "mimetype": "text/x-python",
   "name": "python",
   "nbconvert_exporter": "python",
   "pygments_lexer": "ipython3",
   "version": "3.12.4"
  }
 },
 "nbformat": 4,
 "nbformat_minor": 4
}
