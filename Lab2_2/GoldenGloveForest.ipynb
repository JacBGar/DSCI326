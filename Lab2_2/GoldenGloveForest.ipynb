{
 "cells": [
  {
   "cell_type": "code",
   "execution_count": 13,
   "id": "58f6e5d6-65d9-485f-974c-213dda1d695b",
   "metadata": {},
   "outputs": [
    {
     "data": {
      "text/html": [
       "<div><style>\n",
       ".dataframe > thead > tr,\n",
       ".dataframe > tbody > tr {\n",
       "  text-align: right;\n",
       "  white-space: pre-wrap;\n",
       "}\n",
       "</style>\n",
       "<small>shape: (21_482, 19)</small><table border=\"1\" class=\"dataframe\"><thead><tr><th>playerID</th><th>yearID</th><th>lgID</th><th>POS</th><th>Tot_G</th><th>Tot_GS</th><th>Tot_InnOuts</th><th>Tot_PO</th><th>Tot_A</th><th>Tot_E</th><th>Tot_DP</th><th>Tot_PB</th><th>Tot_WP</th><th>Tot_SB</th><th>Tot_CS</th><th>Tot_ZR</th><th>tie</th><th>Won Gold Glove</th><th>Training-Validation</th></tr><tr><td>str</td><td>i64</td><td>str</td><td>str</td><td>i64</td><td>i64</td><td>i64</td><td>i64</td><td>i64</td><td>i64</td><td>i64</td><td>str</td><td>str</td><td>str</td><td>str</td><td>str</td><td>str</td><td>str</td><td>str</td></tr></thead><tbody><tr><td>&quot;paganem01&quot;</td><td>2017</td><td>&quot;AL&quot;</td><td>&quot;P&quot;</td><td>34</td><td>0</td><td>151</td><td>0</td><td>2</td><td>0</td><td>0</td><td>null</td><td>null</td><td>null</td><td>null</td><td>null</td><td>null</td><td>&quot;No&quot;</td><td>&quot;Training&quot;</td></tr><tr><td>&quot;gosseph01&quot;</td><td>2016</td><td>&quot;NL&quot;</td><td>&quot;1B&quot;</td><td>6</td><td>4</td><td>123</td><td>44</td><td>7</td><td>0</td><td>3</td><td>null</td><td>null</td><td>null</td><td>null</td><td>null</td><td>null</td><td>&quot;No&quot;</td><td>&quot;Training&quot;</td></tr><tr><td>&quot;krausma01&quot;</td><td>2015</td><td>&quot;AL&quot;</td><td>&quot;1B&quot;</td><td>20</td><td>16</td><td>428</td><td>110</td><td>11</td><td>1</td><td>13</td><td>null</td><td>null</td><td>null</td><td>null</td><td>null</td><td>null</td><td>&quot;No&quot;</td><td>&quot;Training&quot;</td></tr><tr><td>&quot;hellije01&quot;</td><td>2015</td><td>&quot;NL&quot;</td><td>&quot;P&quot;</td><td>27</td><td>27</td><td>438</td><td>11</td><td>19</td><td>2</td><td>0</td><td>null</td><td>null</td><td>null</td><td>null</td><td>null</td><td>null</td><td>&quot;No&quot;</td><td>&quot;Training&quot;</td></tr><tr><td>&quot;davieza01&quot;</td><td>2017</td><td>&quot;NL&quot;</td><td>&quot;P&quot;</td><td>33</td><td>33</td><td>574</td><td>12</td><td>36</td><td>0</td><td>2</td><td>null</td><td>null</td><td>null</td><td>null</td><td>null</td><td>null</td><td>&quot;No&quot;</td><td>&quot;Training&quot;</td></tr><tr><td>&hellip;</td><td>&hellip;</td><td>&hellip;</td><td>&hellip;</td><td>&hellip;</td><td>&hellip;</td><td>&hellip;</td><td>&hellip;</td><td>&hellip;</td><td>&hellip;</td><td>&hellip;</td><td>&hellip;</td><td>&hellip;</td><td>&hellip;</td><td>&hellip;</td><td>&hellip;</td><td>&hellip;</td><td>&hellip;</td><td>&hellip;</td></tr><tr><td>&quot;sanchca01&quot;</td><td>2022</td><td>&quot;NL&quot;</td><td>&quot;SS&quot;</td><td>1</td><td>0</td><td>3</td><td>0</td><td>1</td><td>1</td><td>0</td><td>null</td><td>null</td><td>null</td><td>null</td><td>null</td><td>null</td><td>&quot;No&quot;</td><td>&quot;Training&quot;</td></tr><tr><td>&quot;jacksja01&quot;</td><td>2021</td><td>&quot;NL&quot;</td><td>&quot;P&quot;</td><td>23</td><td>1</td><td>65</td><td>0</td><td>1</td><td>0</td><td>0</td><td>null</td><td>null</td><td>null</td><td>null</td><td>null</td><td>null</td><td>&quot;No&quot;</td><td>&quot;Training&quot;</td></tr><tr><td>&quot;valaipa01&quot;</td><td>2019</td><td>&quot;NL&quot;</td><td>&quot;SS&quot;</td><td>7</td><td>3</td><td>102</td><td>4</td><td>12</td><td>1</td><td>3</td><td>null</td><td>null</td><td>null</td><td>null</td><td>null</td><td>null</td><td>&quot;No&quot;</td><td>&quot;Training&quot;</td></tr><tr><td>&quot;mortoch02&quot;</td><td>2018</td><td>&quot;AL&quot;</td><td>&quot;P&quot;</td><td>30</td><td>30</td><td>501</td><td>2</td><td>12</td><td>0</td><td>1</td><td>null</td><td>null</td><td>null</td><td>null</td><td>null</td><td>null</td><td>&quot;No&quot;</td><td>&quot;Training&quot;</td></tr><tr><td>&quot;guerrju02&quot;</td><td>2020</td><td>&quot;NL&quot;</td><td>&quot;P&quot;</td><td>25</td><td>0</td><td>71</td><td>2</td><td>3</td><td>1</td><td>0</td><td>null</td><td>null</td><td>null</td><td>null</td><td>null</td><td>null</td><td>&quot;No&quot;</td><td>&quot;Training&quot;</td></tr></tbody></table></div>"
      ],
      "text/plain": [
       "shape: (21_482, 19)\n",
       "┌───────────┬────────┬──────┬─────┬───┬────────┬──────┬────────────────┬─────────────────────┐\n",
       "│ playerID  ┆ yearID ┆ lgID ┆ POS ┆ … ┆ Tot_ZR ┆ tie  ┆ Won Gold Glove ┆ Training-Validation │\n",
       "│ ---       ┆ ---    ┆ ---  ┆ --- ┆   ┆ ---    ┆ ---  ┆ ---            ┆ ---                 │\n",
       "│ str       ┆ i64    ┆ str  ┆ str ┆   ┆ str    ┆ str  ┆ str            ┆ str                 │\n",
       "╞═══════════╪════════╪══════╪═════╪═══╪════════╪══════╪════════════════╪═════════════════════╡\n",
       "│ paganem01 ┆ 2017   ┆ AL   ┆ P   ┆ … ┆ null   ┆ null ┆ No             ┆ Training            │\n",
       "│ gosseph01 ┆ 2016   ┆ NL   ┆ 1B  ┆ … ┆ null   ┆ null ┆ No             ┆ Training            │\n",
       "│ krausma01 ┆ 2015   ┆ AL   ┆ 1B  ┆ … ┆ null   ┆ null ┆ No             ┆ Training            │\n",
       "│ hellije01 ┆ 2015   ┆ NL   ┆ P   ┆ … ┆ null   ┆ null ┆ No             ┆ Training            │\n",
       "│ davieza01 ┆ 2017   ┆ NL   ┆ P   ┆ … ┆ null   ┆ null ┆ No             ┆ Training            │\n",
       "│ …         ┆ …      ┆ …    ┆ …   ┆ … ┆ …      ┆ …    ┆ …              ┆ …                   │\n",
       "│ sanchca01 ┆ 2022   ┆ NL   ┆ SS  ┆ … ┆ null   ┆ null ┆ No             ┆ Training            │\n",
       "│ jacksja01 ┆ 2021   ┆ NL   ┆ P   ┆ … ┆ null   ┆ null ┆ No             ┆ Training            │\n",
       "│ valaipa01 ┆ 2019   ┆ NL   ┆ SS  ┆ … ┆ null   ┆ null ┆ No             ┆ Training            │\n",
       "│ mortoch02 ┆ 2018   ┆ AL   ┆ P   ┆ … ┆ null   ┆ null ┆ No             ┆ Training            │\n",
       "│ guerrju02 ┆ 2020   ┆ NL   ┆ P   ┆ … ┆ null   ┆ null ┆ No             ┆ Training            │\n",
       "└───────────┴────────┴──────┴─────┴───┴────────┴──────┴────────────────┴─────────────────────┘"
      ]
     },
     "execution_count": 13,
     "metadata": {},
     "output_type": "execute_result"
    }
   ],
   "source": [
    "import polars as pl\n",
    "\n",
    "awardsplayers = pl.read_csv(\"AwardsPlayers.csv\")\n",
    "fielding = pl.read_csv(\"Fielding.csv\")\n",
    "\n",
    "awardsplayers = awardsplayers.rename({\n",
    "    'notes': 'POS'\n",
    "})\n",
    "\n",
    "summed_stats = fielding.filter(pl.col('yearID') >= 2013).group_by(['playerID', 'yearID', 'lgID', 'POS']).agg([\n",
    "    pl.col('G').sum().alias('Tot_G'),\n",
    "    pl.col('GS').sum().alias('Tot_GS'),\n",
    "    pl.col('InnOuts').sum().alias('Tot_InnOuts'),\n",
    "    pl.col('PO').sum().alias('Tot_PO'),\n",
    "    pl.col('A').sum().alias('Tot_A'),\n",
    "    pl.col('E').sum().alias('Tot_E'),\n",
    "    pl.col('DP').sum().alias('Tot_DP'),\n",
    "    pl.col('PB').sum().alias('Tot_PB'),\n",
    "    pl.col('WP').sum().alias('Tot_WP'),\n",
    "    pl.col('SB').sum().alias('Tot_SB'),\n",
    "    pl.col('CS').sum().alias('Tot_CS'),\n",
    "    pl.col('ZR').sum().alias('Tot_ZR')\n",
    "])\n",
    "\n",
    "joined_df = summed_stats.join(\n",
    "    awardsplayers, \n",
    "    on=[\"playerID\", \"yearID\", \"lgID\", \"POS\"],\n",
    "    how=\"left\"\n",
    ")\n",
    "\n",
    "joined_df = joined_df.with_columns(\n",
    "    pl.when(pl.col('awardID') == 'Gold Glove')\n",
    "    .then(pl.lit('Yes'))\n",
    "    .otherwise(pl.lit('No'))\n",
    "    .alias('Won Gold Glove')\n",
    ")\n",
    "\n",
    "joined_df = joined_df.drop('awardID')\n",
    "\n",
    "final_df = joined_df.with_columns(\n",
    "    pl.when(pl.col('yearID') == 2023)\n",
    "      .then(pl.lit('Validation'))\n",
    "      .otherwise(pl.lit('Training'))\n",
    "      .alias('Training-Validation')\n",
    ")\n",
    "\n",
    "#final_df = final_df.sort('playerID', 'yearID')\n",
    "final_df"
   ]
  }
 ],
 "metadata": {
  "kernelspec": {
   "display_name": "Python 3 (ipykernel)",
   "language": "python",
   "name": "python3"
  },
  "language_info": {
   "codemirror_mode": {
    "name": "ipython",
    "version": 3
   },
   "file_extension": ".py",
   "mimetype": "text/x-python",
   "name": "python",
   "nbconvert_exporter": "python",
   "pygments_lexer": "ipython3",
   "version": "3.12.4"
  }
 },
 "nbformat": 4,
 "nbformat_minor": 5
}
