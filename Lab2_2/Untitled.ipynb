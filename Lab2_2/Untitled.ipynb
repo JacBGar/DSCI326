{
 "cells": [
  {
   "cell_type": "code",
   "execution_count": 67,
   "id": "f62482a6-6b77-4727-bf70-8b42abe503cb",
   "metadata": {},
   "outputs": [
    {
     "data": {
      "text/html": [
       "<div><style>\n",
       ".dataframe > thead > tr,\n",
       ".dataframe > tbody > tr {\n",
       "  text-align: right;\n",
       "  white-space: pre-wrap;\n",
       "}\n",
       "</style>\n",
       "<small>shape: (9_131, 61)</small><table border=\"1\" class=\"dataframe\"><thead><tr><th>playerID</th><th>yearID</th><th>salary</th><th>stint</th><th>G</th><th>G_batting</th><th>AB</th><th>R</th><th>H</th><th>2B</th><th>3B</th><th>HR</th><th>RBI</th><th>SB</th><th>CS</th><th>BB</th><th>SO</th><th>IBB</th><th>HBP</th><th>SH</th><th>SF</th><th>GIDP</th><th>G_old</th><th>stint_right</th><th>W</th><th>L</th><th>G_right</th><th>GS</th><th>CG</th><th>SHO</th><th>SV</th><th>IPouts</th><th>H_right</th><th>ER</th><th>HR_right</th><th>BB_right</th><th>SO_right</th><th>BAOpp</th><th>ERA</th><th>IBB_right</th><th>WP</th><th>HBP_right</th><th>BK</th><th>BFP</th><th>GF</th><th>R_right</th><th>SH_right</th><th>SF_right</th><th>GIDP_right</th><th>GS_right</th><th>InnOuts</th><th>PO</th><th>A</th><th>E</th><th>DP</th><th>PB</th><th>WP_right</th><th>SB_right</th><th>CS_right</th><th>ZR</th><th>Training_Validation</th></tr><tr><td>str</td><td>i64</td><td>i64</td><td>i64</td><td>i64</td><td>i64</td><td>i64</td><td>i64</td><td>i64</td><td>i64</td><td>i64</td><td>i64</td><td>i64</td><td>i64</td><td>i64</td><td>i64</td><td>i64</td><td>i64</td><td>i64</td><td>i64</td><td>i64</td><td>i64</td><td>str</td><td>i64</td><td>i64</td><td>i64</td><td>i64</td><td>i64</td><td>i64</td><td>i64</td><td>i64</td><td>i64</td><td>i64</td><td>i64</td><td>i64</td><td>i64</td><td>i64</td><td>f64</td><td>f64</td><td>i64</td><td>i64</td><td>i64</td><td>i64</td><td>i64</td><td>i64</td><td>i64</td><td>i64</td><td>i64</td><td>i64</td><td>i64</td><td>i64</td><td>i64</td><td>i64</td><td>i64</td><td>i64</td><td>str</td><td>str</td><td>str</td><td>str</td><td>str</td><td>str</td></tr></thead><tbody><tr><td>&quot;freemfr01&quot;</td><td>2011</td><td>414000</td><td>1</td><td>157</td><td>0</td><td>571</td><td>67</td><td>161</td><td>32</td><td>0</td><td>21</td><td>76</td><td>4</td><td>4</td><td>53</td><td>142</td><td>3</td><td>6</td><td>0</td><td>5</td><td>15</td><td>null</td><td>null</td><td>null</td><td>null</td><td>null</td><td>null</td><td>null</td><td>null</td><td>null</td><td>null</td><td>null</td><td>null</td><td>null</td><td>null</td><td>null</td><td>null</td><td>null</td><td>null</td><td>null</td><td>null</td><td>null</td><td>null</td><td>null</td><td>null</td><td>null</td><td>null</td><td>null</td><td>null</td><td>null</td><td>null</td><td>null</td><td>null</td><td>null</td><td>null</td><td>null</td><td>null</td><td>null</td><td>null</td><td>&quot;Training&quot;</td></tr><tr><td>&quot;encared01&quot;</td><td>2013</td><td>8000000</td><td>1</td><td>142</td><td>0</td><td>530</td><td>90</td><td>144</td><td>29</td><td>1</td><td>36</td><td>104</td><td>7</td><td>1</td><td>82</td><td>62</td><td>7</td><td>4</td><td>0</td><td>5</td><td>20</td><td>null</td><td>null</td><td>null</td><td>null</td><td>null</td><td>null</td><td>null</td><td>null</td><td>null</td><td>null</td><td>null</td><td>null</td><td>null</td><td>null</td><td>null</td><td>null</td><td>null</td><td>null</td><td>null</td><td>null</td><td>null</td><td>null</td><td>null</td><td>null</td><td>null</td><td>null</td><td>null</td><td>null</td><td>null</td><td>null</td><td>null</td><td>null</td><td>null</td><td>null</td><td>null</td><td>null</td><td>null</td><td>null</td><td>&quot;Training&quot;</td></tr><tr><td>&quot;caminar01&quot;</td><td>2015</td><td>515500</td><td>1</td><td>73</td><td>0</td><td>0</td><td>0</td><td>0</td><td>0</td><td>0</td><td>0</td><td>0</td><td>0</td><td>0</td><td>0</td><td>0</td><td>0</td><td>0</td><td>0</td><td>0</td><td>0</td><td>null</td><td>1</td><td>5</td><td>1</td><td>73</td><td>0</td><td>0</td><td>0</td><td>0</td><td>224</td><td>63</td><td>30</td><td>7</td><td>29</td><td>73</td><td>0.224</td><td>3.62</td><td>2</td><td>6</td><td>6</td><td>1</td><td>318</td><td>19</td><td>31</td><td>1</td><td>1</td><td>5</td><td>0</td><td>224</td><td>2</td><td>9</td><td>0</td><td>0</td><td>null</td><td>null</td><td>null</td><td>null</td><td>null</td><td>&quot;Training&quot;</td></tr><tr><td>&quot;jennija01&quot;</td><td>2006</td><td>4500000</td><td>1</td><td>32</td><td>0</td><td>62</td><td>3</td><td>8</td><td>1</td><td>0</td><td>0</td><td>2</td><td>0</td><td>0</td><td>3</td><td>12</td><td>0</td><td>0</td><td>10</td><td>0</td><td>0</td><td>null</td><td>1</td><td>9</td><td>13</td><td>32</td><td>32</td><td>3</td><td>2</td><td>0</td><td>636</td><td>206</td><td>89</td><td>17</td><td>85</td><td>142</td><td>0.258</td><td>3.78</td><td>7</td><td>10</td><td>3</td><td>0</td><td>902</td><td>0</td><td>94</td><td>8</td><td>6</td><td>21</td><td>32</td><td>636</td><td>14</td><td>25</td><td>1</td><td>3</td><td>null</td><td>null</td><td>null</td><td>null</td><td>null</td><td>&quot;Training&quot;</td></tr><tr><td>&quot;kinslia01&quot;</td><td>2006</td><td>327000</td><td>1</td><td>120</td><td>0</td><td>423</td><td>65</td><td>121</td><td>27</td><td>1</td><td>14</td><td>55</td><td>11</td><td>4</td><td>40</td><td>64</td><td>1</td><td>3</td><td>1</td><td>7</td><td>12</td><td>null</td><td>null</td><td>null</td><td>null</td><td>null</td><td>null</td><td>null</td><td>null</td><td>null</td><td>null</td><td>null</td><td>null</td><td>null</td><td>null</td><td>null</td><td>null</td><td>null</td><td>null</td><td>null</td><td>null</td><td>null</td><td>null</td><td>null</td><td>null</td><td>null</td><td>null</td><td>null</td><td>null</td><td>null</td><td>null</td><td>null</td><td>null</td><td>null</td><td>null</td><td>null</td><td>null</td><td>null</td><td>null</td><td>&quot;Training&quot;</td></tr><tr><td>&hellip;</td><td>&hellip;</td><td>&hellip;</td><td>&hellip;</td><td>&hellip;</td><td>&hellip;</td><td>&hellip;</td><td>&hellip;</td><td>&hellip;</td><td>&hellip;</td><td>&hellip;</td><td>&hellip;</td><td>&hellip;</td><td>&hellip;</td><td>&hellip;</td><td>&hellip;</td><td>&hellip;</td><td>&hellip;</td><td>&hellip;</td><td>&hellip;</td><td>&hellip;</td><td>&hellip;</td><td>&hellip;</td><td>&hellip;</td><td>&hellip;</td><td>&hellip;</td><td>&hellip;</td><td>&hellip;</td><td>&hellip;</td><td>&hellip;</td><td>&hellip;</td><td>&hellip;</td><td>&hellip;</td><td>&hellip;</td><td>&hellip;</td><td>&hellip;</td><td>&hellip;</td><td>&hellip;</td><td>&hellip;</td><td>&hellip;</td><td>&hellip;</td><td>&hellip;</td><td>&hellip;</td><td>&hellip;</td><td>&hellip;</td><td>&hellip;</td><td>&hellip;</td><td>&hellip;</td><td>&hellip;</td><td>&hellip;</td><td>&hellip;</td><td>&hellip;</td><td>&hellip;</td><td>&hellip;</td><td>&hellip;</td><td>&hellip;</td><td>&hellip;</td><td>&hellip;</td><td>&hellip;</td><td>&hellip;</td><td>&hellip;</td></tr><tr><td>&quot;madriwa01&quot;</td><td>2010</td><td>404730</td><td>null</td><td>null</td><td>null</td><td>null</td><td>null</td><td>null</td><td>null</td><td>null</td><td>null</td><td>null</td><td>null</td><td>null</td><td>null</td><td>null</td><td>null</td><td>null</td><td>null</td><td>null</td><td>null</td><td>null</td><td>null</td><td>null</td><td>null</td><td>null</td><td>null</td><td>null</td><td>null</td><td>null</td><td>null</td><td>null</td><td>null</td><td>null</td><td>null</td><td>null</td><td>null</td><td>null</td><td>null</td><td>null</td><td>null</td><td>null</td><td>null</td><td>null</td><td>null</td><td>null</td><td>null</td><td>null</td><td>null</td><td>null</td><td>null</td><td>null</td><td>null</td><td>null</td><td>null</td><td>null</td><td>null</td><td>null</td><td>null</td><td>&quot;Training&quot;</td></tr><tr><td>&quot;ventejo01&quot;</td><td>2011</td><td>429500</td><td>1</td><td>85</td><td>0</td><td>0</td><td>0</td><td>0</td><td>0</td><td>0</td><td>0</td><td>0</td><td>0</td><td>0</td><td>0</td><td>0</td><td>0</td><td>0</td><td>0</td><td>0</td><td>0</td><td>null</td><td>1</td><td>6</td><td>2</td><td>85</td><td>0</td><td>0</td><td>0</td><td>5</td><td>264</td><td>53</td><td>18</td><td>2</td><td>43</td><td>96</td><td>0.176</td><td>1.84</td><td>7</td><td>4</td><td>5</td><td>0</td><td>357</td><td>10</td><td>19</td><td>7</td><td>1</td><td>11</td><td>0</td><td>264</td><td>6</td><td>19</td><td>2</td><td>1</td><td>null</td><td>null</td><td>null</td><td>null</td><td>null</td><td>&quot;Training&quot;</td></tr><tr><td>&quot;gonzagi01&quot;</td><td>2014</td><td>8500000</td><td>1</td><td>27</td><td>0</td><td>46</td><td>3</td><td>4</td><td>1</td><td>0</td><td>1</td><td>2</td><td>0</td><td>0</td><td>0</td><td>26</td><td>0</td><td>0</td><td>6</td><td>0</td><td>0</td><td>null</td><td>1</td><td>10</td><td>10</td><td>27</td><td>27</td><td>0</td><td>0</td><td>0</td><td>476</td><td>134</td><td>63</td><td>10</td><td>56</td><td>162</td><td>0.23</td><td>3.57</td><td>0</td><td>2</td><td>3</td><td>0</td><td>653</td><td>0</td><td>66</td><td>7</td><td>4</td><td>9</td><td>27</td><td>476</td><td>6</td><td>19</td><td>1</td><td>1</td><td>null</td><td>null</td><td>null</td><td>null</td><td>null</td><td>&quot;Training&quot;</td></tr><tr><td>&quot;lestejo01&quot;</td><td>2012</td><td>7625000</td><td>1</td><td>33</td><td>0</td><td>5</td><td>0</td><td>0</td><td>0</td><td>0</td><td>0</td><td>0</td><td>0</td><td>0</td><td>0</td><td>3</td><td>0</td><td>0</td><td>1</td><td>0</td><td>1</td><td>null</td><td>1</td><td>9</td><td>14</td><td>33</td><td>33</td><td>3</td><td>0</td><td>0</td><td>616</td><td>216</td><td>110</td><td>25</td><td>68</td><td>166</td><td>0.273</td><td>4.82</td><td>2</td><td>6</td><td>4</td><td>0</td><td>876</td><td>0</td><td>117</td><td>5</td><td>7</td><td>27</td><td>33</td><td>616</td><td>14</td><td>21</td><td>2</td><td>3</td><td>null</td><td>null</td><td>null</td><td>null</td><td>null</td><td>&quot;Training&quot;</td></tr><tr><td>&quot;cabreda01&quot;</td><td>2006</td><td>385000</td><td>1</td><td>26</td><td>0</td><td>1</td><td>0</td><td>0</td><td>0</td><td>0</td><td>0</td><td>0</td><td>0</td><td>0</td><td>0</td><td>1</td><td>0</td><td>0</td><td>1</td><td>0</td><td>0</td><td>null</td><td>1</td><td>9</td><td>10</td><td>26</td><td>26</td><td>2</td><td>1</td><td>0</td><td>444</td><td>130</td><td>78</td><td>11</td><td>104</td><td>157</td><td>0.241</td><td>4.74</td><td>1</td><td>17</td><td>5</td><td>1</td><td>662</td><td>0</td><td>82</td><td>5</td><td>8</td><td>20</td><td>26</td><td>444</td><td>4</td><td>13</td><td>0</td><td>2</td><td>null</td><td>null</td><td>null</td><td>null</td><td>null</td><td>&quot;Training&quot;</td></tr></tbody></table></div>"
      ],
      "text/plain": [
       "shape: (9_131, 61)\n",
       "┌───────────┬────────┬─────────┬───────┬───┬──────────┬──────────┬──────┬─────────────────────┐\n",
       "│ playerID  ┆ yearID ┆ salary  ┆ stint ┆ … ┆ SB_right ┆ CS_right ┆ ZR   ┆ Training_Validation │\n",
       "│ ---       ┆ ---    ┆ ---     ┆ ---   ┆   ┆ ---      ┆ ---      ┆ ---  ┆ ---                 │\n",
       "│ str       ┆ i64    ┆ i64     ┆ i64   ┆   ┆ str      ┆ str      ┆ str  ┆ str                 │\n",
       "╞═══════════╪════════╪═════════╪═══════╪═══╪══════════╪══════════╪══════╪═════════════════════╡\n",
       "│ freemfr01 ┆ 2011   ┆ 414000  ┆ 1     ┆ … ┆ null     ┆ null     ┆ null ┆ Training            │\n",
       "│ encared01 ┆ 2013   ┆ 8000000 ┆ 1     ┆ … ┆ null     ┆ null     ┆ null ┆ Training            │\n",
       "│ caminar01 ┆ 2015   ┆ 515500  ┆ 1     ┆ … ┆ null     ┆ null     ┆ null ┆ Training            │\n",
       "│ jennija01 ┆ 2006   ┆ 4500000 ┆ 1     ┆ … ┆ null     ┆ null     ┆ null ┆ Training            │\n",
       "│ kinslia01 ┆ 2006   ┆ 327000  ┆ 1     ┆ … ┆ null     ┆ null     ┆ null ┆ Training            │\n",
       "│ …         ┆ …      ┆ …       ┆ …     ┆ … ┆ …        ┆ …        ┆ …    ┆ …                   │\n",
       "│ madriwa01 ┆ 2010   ┆ 404730  ┆ null  ┆ … ┆ null     ┆ null     ┆ null ┆ Training            │\n",
       "│ ventejo01 ┆ 2011   ┆ 429500  ┆ 1     ┆ … ┆ null     ┆ null     ┆ null ┆ Training            │\n",
       "│ gonzagi01 ┆ 2014   ┆ 8500000 ┆ 1     ┆ … ┆ null     ┆ null     ┆ null ┆ Training            │\n",
       "│ lestejo01 ┆ 2012   ┆ 7625000 ┆ 1     ┆ … ┆ null     ┆ null     ┆ null ┆ Training            │\n",
       "│ cabreda01 ┆ 2006   ┆ 385000  ┆ 1     ┆ … ┆ null     ┆ null     ┆ null ┆ Training            │\n",
       "└───────────┴────────┴─────────┴───────┴───┴──────────┴──────────┴──────┴─────────────────────┘"
      ]
     },
     "execution_count": 67,
     "metadata": {},
     "output_type": "execute_result"
    }
   ],
   "source": [
    "import polars as pl\n",
    "\n",
    "salaries = pl.read_csv('Salaries.csv')\n",
    "batting = pl.read_csv('Batting.csv')\n",
    "pitching = pl.read_csv('Pitching.csv')\n",
    "fielding = pl.read_csv('Fielding.csv')\n",
    "\n",
    "def filter_and_aggregate(df, cols_to_sum):\n",
    "    return (\n",
    "        df.filter(pl.col('yearID') >= 2006)\n",
    "          .group_by('playerID', 'yearID')\n",
    "          .agg([pl.col(col).sum() for col in cols_to_sum])\n",
    "    )\n",
    "\n",
    "salaries = (\n",
    "    salaries.filter(pl.col('yearID') >= 2006)\n",
    "            .group_by('playerID', 'yearID')\n",
    "            .agg(pl.col('salary').sum())\n",
    ")\n",
    "\n",
    "batting_cols = ['stint', 'G', 'G_batting', 'AB', 'R', 'H', '2B', '3B', 'HR', 'RBI',\n",
    "                'SB', 'CS', 'BB', 'SO', 'IBB', 'HBP', 'SH', 'SF', 'GIDP', 'G_old']\n",
    "pitching_cols = ['stint', 'W', 'L', 'G', 'GS', 'CG', 'SHO', 'SV', 'IPouts', 'H', 'ER',\n",
    "                 'HR', 'BB', 'SO', 'BAOpp', 'ERA', 'IBB', 'WP', 'HBP', 'BK', 'BFP',\n",
    "                 'GF', 'R', 'SH', 'SF', 'GIDP']\n",
    "fielding_cols = ['stint', 'G', 'GS', 'InnOuts', 'PO', 'A', 'E', 'DP', 'PB',\n",
    "                 'WP', 'SB', 'CS', 'ZR']\n",
    "\n",
    "batting = filter_and_aggregate(batting, batting_cols)\n",
    "pitching = filter_and_aggregate(pitching, pitching_cols)\n",
    "fielding = filter_and_aggregate(fielding, fielding_cols)\n",
    "\n",
    "result = (\n",
    "    salaries\n",
    "    .join(batting, on=['playerID', 'yearID'], how='left')\n",
    "    .join(pitching, on=['playerID', 'yearID'], how='left')\n",
    "    .join(fielding, on=['playerID', 'yearID', 'stint', 'G'], how='left')\n",
    "    .with_columns(\n",
    "        Training_Validation=pl.when(pl.col('yearID') == 2016)\n",
    "                              .then(pl.lit('Validation'))\n",
    "                              .otherwise(pl.lit('Training'))\n",
    "    )\n",
    ")\n",
    "\n",
    "result"
   ]
  },
  {
   "cell_type": "code",
   "execution_count": 43,
   "id": "8963eec1-7035-4d71-b2bb-5191f2ca5d6f",
   "metadata": {},
   "outputs": [
    {
     "name": "stderr",
     "output_type": "stream",
     "text": [
      "/var/folders/j2/qlqp3h0134d5kv_75_ffjz380000gn/T/ipykernel_23551/2113269750.py:2: DeprecationWarning: `pl.count()` is deprecated. Please use `pl.len()` instead.\n",
      "  pl.count().alias('count')\n"
     ]
    },
    {
     "data": {
      "text/html": [
       "<div><style>\n",
       ".dataframe > thead > tr,\n",
       ".dataframe > tbody > tr {\n",
       "  text-align: right;\n",
       "  white-space: pre-wrap;\n",
       "}\n",
       "</style>\n",
       "<small>shape: (0, 3)</small><table border=\"1\" class=\"dataframe\"><thead><tr><th>playerID</th><th>yearID</th><th>count</th></tr><tr><td>str</td><td>i64</td><td>u32</td></tr></thead><tbody></tbody></table></div>"
      ],
      "text/plain": [
       "shape: (0, 3)\n",
       "┌──────────┬────────┬───────┐\n",
       "│ playerID ┆ yearID ┆ count │\n",
       "│ ---      ┆ ---    ┆ ---   │\n",
       "│ str      ┆ i64    ┆ u32   │\n",
       "╞══════════╪════════╪═══════╡\n",
       "└──────────┴────────┴───────┘"
      ]
     },
     "execution_count": 43,
     "metadata": {},
     "output_type": "execute_result"
    }
   ],
   "source": [
    "duplicates = final_df.group_by(['playerID', 'yearID']).agg([\n",
    "    pl.count().alias('count')\n",
    "]).filter(pl.col('count') > 1)\n",
    "\n",
    "duplicates"
   ]
  },
  {
   "cell_type": "code",
   "execution_count": null,
   "id": "eac77835-13c9-4e4a-9629-95574936ae26",
   "metadata": {},
   "outputs": [],
   "source": []
  }
 ],
 "metadata": {
  "kernelspec": {
   "display_name": "Python 3 (ipykernel)",
   "language": "python",
   "name": "python3"
  },
  "language_info": {
   "codemirror_mode": {
    "name": "ipython",
    "version": 3
   },
   "file_extension": ".py",
   "mimetype": "text/x-python",
   "name": "python",
   "nbconvert_exporter": "python",
   "pygments_lexer": "ipython3",
   "version": "3.12.4"
  }
 },
 "nbformat": 4,
 "nbformat_minor": 5
}
