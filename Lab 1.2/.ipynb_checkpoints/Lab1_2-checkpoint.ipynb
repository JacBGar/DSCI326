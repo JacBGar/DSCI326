{
 "cells": [
  {
   "cell_type": "code",
   "execution_count": 1,
   "id": "ac91b562-1f28-414d-9385-90c2f58b685d",
   "metadata": {},
   "outputs": [
    {
     "ename": "ColumnNotFoundError",
     "evalue": "\"Needs Reverse Coding\" not found",
     "output_type": "error",
     "traceback": [
      "\u001b[0;31m---------------------------------------------------------------------------\u001b[0m",
      "\u001b[0;31mColumnNotFoundError\u001b[0m                       Traceback (most recent call last)",
      "\u001b[0;32m/var/folders/j2/qlqp3h0134d5kv_75_ffjz380000gn/T/ipykernel_1514/3859912247.py\u001b[0m in \u001b[0;36m?\u001b[0;34m()\u001b[0m\n\u001b[1;32m     14\u001b[0m \u001b[0;34m}\u001b[0m\u001b[0;34m\u001b[0m\u001b[0;34m\u001b[0m\u001b[0m\n\u001b[1;32m     15\u001b[0m \u001b[0;34m\u001b[0m\u001b[0m\n\u001b[1;32m     16\u001b[0m \u001b[0;31m# Apply reverse coding where necessary\u001b[0m\u001b[0;34m\u001b[0m\u001b[0;34m\u001b[0m\u001b[0m\n\u001b[1;32m     17\u001b[0m df = df.with_columns([\n\u001b[0;32m---> 18\u001b[0;31m     \u001b[0mpl\u001b[0m\u001b[0;34m.\u001b[0m\u001b[0mwhen\u001b[0m\u001b[0;34m(\u001b[0m\u001b[0mreverse_df\u001b[0m\u001b[0;34m[\u001b[0m\u001b[0;34m\"Needs Reverse Coding\"\u001b[0m\u001b[0;34m]\u001b[0m \u001b[0;34m==\u001b[0m \u001b[0;34m\"Yes\"\u001b[0m\u001b[0;34m)\u001b[0m\u001b[0;34m\u001b[0m\u001b[0;34m\u001b[0m\u001b[0m\n\u001b[0m\u001b[1;32m     19\u001b[0m     \u001b[0;34m.\u001b[0m\u001b[0mthen\u001b[0m\u001b[0;34m(\u001b[0m\u001b[0mpl\u001b[0m\u001b[0;34m.\u001b[0m\u001b[0mcol\u001b[0m\u001b[0;34m(\u001b[0m\u001b[0;34m\"Response\"\u001b[0m\u001b[0;34m)\u001b[0m\u001b[0;34m.\u001b[0m\u001b[0mmap_dict\u001b[0m\u001b[0;34m(\u001b[0m\u001b[0mreverse_map\u001b[0m\u001b[0;34m)\u001b[0m\u001b[0;34m)\u001b[0m\u001b[0;34m\u001b[0m\u001b[0;34m\u001b[0m\u001b[0m\n\u001b[1;32m     20\u001b[0m     \u001b[0;34m.\u001b[0m\u001b[0motherwise\u001b[0m\u001b[0;34m(\u001b[0m\u001b[0mpl\u001b[0m\u001b[0;34m.\u001b[0m\u001b[0mcol\u001b[0m\u001b[0;34m(\u001b[0m\u001b[0;34m\"Response\"\u001b[0m\u001b[0;34m)\u001b[0m\u001b[0;34m.\u001b[0m\u001b[0mcast\u001b[0m\u001b[0;34m(\u001b[0m\u001b[0mint\u001b[0m\u001b[0;34m)\u001b[0m\u001b[0;34m)\u001b[0m\u001b[0;34m\u001b[0m\u001b[0;34m\u001b[0m\u001b[0m\n\u001b[1;32m     21\u001b[0m     \u001b[0;34m.\u001b[0m\u001b[0malias\u001b[0m\u001b[0;34m(\u001b[0m\u001b[0;34m\"Recoded Value\"\u001b[0m\u001b[0;34m)\u001b[0m\u001b[0;34m\u001b[0m\u001b[0;34m\u001b[0m\u001b[0m\n",
      "\u001b[0;32m/opt/anaconda3/lib/python3.12/site-packages/polars/dataframe/frame.py\u001b[0m in \u001b[0;36m?\u001b[0;34m(self, key)\u001b[0m\n\u001b[1;32m   1341\u001b[0m         \u001b[0m│\u001b[0m \u001b[0;36m2\u001b[0m   \u001b[0m┆\u001b[0m \u001b[0;36m5\u001b[0m   \u001b[0m┆\u001b[0m \u001b[0;36m3\u001b[0m   \u001b[0m│\u001b[0m\u001b[0;34m\u001b[0m\u001b[0;34m\u001b[0m\u001b[0m\n\u001b[1;32m   1342\u001b[0m         \u001b[0m│\u001b[0m \u001b[0;36m3\u001b[0m   \u001b[0m┆\u001b[0m \u001b[0;36m6\u001b[0m   \u001b[0m┆\u001b[0m \u001b[0;36m2\u001b[0m   \u001b[0m│\u001b[0m\u001b[0;34m\u001b[0m\u001b[0;34m\u001b[0m\u001b[0m\n\u001b[1;32m   1343\u001b[0m         \u001b[0m└─────┴─────┴─────┘\u001b[0m\u001b[0;34m\u001b[0m\u001b[0;34m\u001b[0m\u001b[0m\n\u001b[1;32m   1344\u001b[0m         \"\"\"\n\u001b[0;32m-> 1345\u001b[0;31m         \u001b[0;32mreturn\u001b[0m \u001b[0mget_df_item_by_key\u001b[0m\u001b[0;34m(\u001b[0m\u001b[0mself\u001b[0m\u001b[0;34m,\u001b[0m \u001b[0mkey\u001b[0m\u001b[0;34m)\u001b[0m\u001b[0;34m\u001b[0m\u001b[0;34m\u001b[0m\u001b[0m\n\u001b[0m",
      "\u001b[0;32m/opt/anaconda3/lib/python3.12/site-packages/polars/_utils/getitem.py\u001b[0m in \u001b[0;36m?\u001b[0;34m(df, key)\u001b[0m\n\u001b[1;32m    156\u001b[0m     \u001b[0;31m# Single string input, e.g. df[\"a\"]\u001b[0m\u001b[0;34m\u001b[0m\u001b[0;34m\u001b[0m\u001b[0m\n\u001b[1;32m    157\u001b[0m     \u001b[0;32mif\u001b[0m \u001b[0misinstance\u001b[0m\u001b[0;34m(\u001b[0m\u001b[0mkey\u001b[0m\u001b[0;34m,\u001b[0m \u001b[0mstr\u001b[0m\u001b[0;34m)\u001b[0m\u001b[0;34m:\u001b[0m\u001b[0;34m\u001b[0m\u001b[0;34m\u001b[0m\u001b[0m\n\u001b[1;32m    158\u001b[0m         \u001b[0;31m# This case is required because empty strings are otherwise treated\u001b[0m\u001b[0;34m\u001b[0m\u001b[0;34m\u001b[0m\u001b[0m\n\u001b[1;32m    159\u001b[0m         \u001b[0;31m# as an empty Sequence in `_select_rows`\u001b[0m\u001b[0;34m\u001b[0m\u001b[0;34m\u001b[0m\u001b[0m\n\u001b[0;32m--> 160\u001b[0;31m         \u001b[0;32mreturn\u001b[0m \u001b[0mdf\u001b[0m\u001b[0;34m.\u001b[0m\u001b[0mget_column\u001b[0m\u001b[0;34m(\u001b[0m\u001b[0mkey\u001b[0m\u001b[0;34m)\u001b[0m\u001b[0;34m\u001b[0m\u001b[0;34m\u001b[0m\u001b[0m\n\u001b[0m\u001b[1;32m    161\u001b[0m \u001b[0;34m\u001b[0m\u001b[0m\n\u001b[1;32m    162\u001b[0m     \u001b[0;31m# Single input - df[1] - or multiple inputs - df[\"a\", \"b\", \"c\"]\u001b[0m\u001b[0;34m\u001b[0m\u001b[0;34m\u001b[0m\u001b[0m\n\u001b[1;32m    163\u001b[0m     \u001b[0;32mtry\u001b[0m\u001b[0;34m:\u001b[0m\u001b[0;34m\u001b[0m\u001b[0;34m\u001b[0m\u001b[0m\n",
      "\u001b[0;32m/opt/anaconda3/lib/python3.12/site-packages/polars/dataframe/frame.py\u001b[0m in \u001b[0;36m?\u001b[0;34m(self, name, default)\u001b[0m\n\u001b[1;32m   7757\u001b[0m         \u001b[0;32mtry\u001b[0m\u001b[0;34m:\u001b[0m\u001b[0;34m\u001b[0m\u001b[0;34m\u001b[0m\u001b[0m\n\u001b[1;32m   7758\u001b[0m             \u001b[0;32mreturn\u001b[0m \u001b[0mwrap_s\u001b[0m\u001b[0;34m(\u001b[0m\u001b[0mself\u001b[0m\u001b[0;34m.\u001b[0m\u001b[0m_df\u001b[0m\u001b[0;34m.\u001b[0m\u001b[0mget_column\u001b[0m\u001b[0;34m(\u001b[0m\u001b[0mname\u001b[0m\u001b[0;34m)\u001b[0m\u001b[0;34m)\u001b[0m\u001b[0;34m\u001b[0m\u001b[0;34m\u001b[0m\u001b[0m\n\u001b[1;32m   7759\u001b[0m         \u001b[0;32mexcept\u001b[0m \u001b[0mColumnNotFoundError\u001b[0m\u001b[0;34m:\u001b[0m\u001b[0;34m\u001b[0m\u001b[0;34m\u001b[0m\u001b[0m\n\u001b[1;32m   7760\u001b[0m             \u001b[0;32mif\u001b[0m \u001b[0mdefault\u001b[0m \u001b[0;32mis\u001b[0m \u001b[0mno_default\u001b[0m\u001b[0;34m:\u001b[0m\u001b[0;34m\u001b[0m\u001b[0;34m\u001b[0m\u001b[0m\n\u001b[0;32m-> 7761\u001b[0;31m                 \u001b[0;32mraise\u001b[0m\u001b[0;34m\u001b[0m\u001b[0;34m\u001b[0m\u001b[0m\n\u001b[0m\u001b[1;32m   7762\u001b[0m             \u001b[0;32mreturn\u001b[0m \u001b[0mdefault\u001b[0m\u001b[0;34m\u001b[0m\u001b[0;34m\u001b[0m\u001b[0m\n",
      "\u001b[0;31mColumnNotFoundError\u001b[0m: \"Needs Reverse Coding\" not found"
     ]
    }
   ],
   "source": [
    "import polars as pl\n",
    "\n",
    "# Load data\n",
    "df = pl.read_csv(\"./health_survey.csv\")\n",
    "reverse_df = pl.read_csv(\"./ReverseCodingItems.csv\")\n",
    "\n",
    "# Define reverse coding mapping\n",
    "reverse_map = {\n",
    "    \"Strongly Disagree\": 5,\n",
    "    \"Somewhat Disagree\": 4,\n",
    "    \"Neither Agree nor Disagree\": 3,\n",
    "    \"Somewhat Agree\": 2,\n",
    "    \"Strongly Agree\": 1\n",
    "}\n",
    "\n",
    "# Apply reverse coding where necessary\n",
    "df = df.with_columns([\n",
    "    pl.when(reverse_df[\"Needs Reverse Coding\"] == \"Yes\")\n",
    "    .then(pl.col(\"Response\").map_dict(reverse_map))\n",
    "    .otherwise(pl.col(\"Response\").cast(int))\n",
    "    .alias(\"Recoded Value\")\n",
    "])\n",
    "\n",
    "# Create Temp Coded and Reverse Coded Value columns\n",
    "df = df.with_columns([\n",
    "    pl.col(\"Response\").map_dict({\n",
    "        \"Strongly Disagree\": 1,\n",
    "        \"Somewhat Disagree\": 2,\n",
    "        \"Neither Agree nor Disagree\": 3,\n",
    "        \"Somewhat Agree\": 4,\n",
    "        \"Strongly Agree\": 5\n",
    "    }).alias(\"Temp Coded Value\"),\n",
    "    pl.when(pl.col(\"Needs Reverse\") == \"Yes\")\n",
    "    .then(pl.col(\"Response\").map_dict(reverse_map))\n",
    "    .otherwise(pl.col(\"Temp Coded Value\"))\n",
    "    .alias(\"Final Coded Value\")\n",
    "])\n",
    "\n",
    "# Recategorize question types\n",
    "df = df.with_columns([\n",
    "    pl.col(\"Question Type\").map_dict({\n",
    "        \"Type1\": \"F1\",\n",
    "        \"Type2\": \"F2\",\n",
    "        \"Type3\": \"F3\",\n",
    "        # Add remaining mappings here\n",
    "    }).alias(\"Recoded Question Type\")\n",
    "])\n",
    "\n",
    "# Write to CSV\n",
    "df.write_csv(\"data/health_survey_summary.csv\")"
   ]
  },
  {
   "cell_type": "code",
   "execution_count": null,
   "id": "534c1c03-5167-4de2-a6bf-46bd5d9b0d73",
   "metadata": {},
   "outputs": [],
   "source": []
  }
 ],
 "metadata": {
  "kernelspec": {
   "display_name": "Python 3 (ipykernel)",
   "language": "python",
   "name": "python3"
  },
  "language_info": {
   "codemirror_mode": {
    "name": "ipython",
    "version": 3
   },
   "file_extension": ".py",
   "mimetype": "text/x-python",
   "name": "python",
   "nbconvert_exporter": "python",
   "pygments_lexer": "ipython3",
   "version": "3.12.4"
  }
 },
 "nbformat": 4,
 "nbformat_minor": 5
}
