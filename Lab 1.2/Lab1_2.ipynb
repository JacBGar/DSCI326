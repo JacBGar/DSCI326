{
 "cells": [
  {
   "cell_type": "code",
   "execution_count": 39,
   "id": "ac91b562-1f28-414d-9385-90c2f58b685d",
   "metadata": {},
   "outputs": [
    {
     "ename": "AttributeError",
     "evalue": "'ExprStringNameSpace' object has no attribute 'strip'",
     "output_type": "error",
     "traceback": [
      "\u001b[0;31m---------------------------------------------------------------------------\u001b[0m",
      "\u001b[0;31mAttributeError\u001b[0m                            Traceback (most recent call last)",
      "Cell \u001b[0;32mIn[39], line 13\u001b[0m\n\u001b[1;32m      9\u001b[0m reverse_coding_items \u001b[38;5;241m=\u001b[39m reverse_coding_items\u001b[38;5;241m.\u001b[39mselect([\u001b[38;5;124m\"\u001b[39m\u001b[38;5;124mQuestion\u001b[39m\u001b[38;5;124m\"\u001b[39m, \u001b[38;5;124m\"\u001b[39m\u001b[38;5;124mNeeds Reverse Coding?\u001b[39m\u001b[38;5;124m\"\u001b[39m])\n\u001b[1;32m     11\u001b[0m \u001b[38;5;66;03m# Strip whitespaces and clean the columns in reverse coding\u001b[39;00m\n\u001b[1;32m     12\u001b[0m reverse_coding_items \u001b[38;5;241m=\u001b[39m reverse_coding_items\u001b[38;5;241m.\u001b[39mwith_columns([\n\u001b[0;32m---> 13\u001b[0m     pl\u001b[38;5;241m.\u001b[39mcol(\u001b[38;5;124m\"\u001b[39m\u001b[38;5;124mQuestion\u001b[39m\u001b[38;5;124m\"\u001b[39m)\u001b[38;5;241m.\u001b[39mstr\u001b[38;5;241m.\u001b[39mstrip()\u001b[38;5;241m.\u001b[39malias(\u001b[38;5;124m\"\u001b[39m\u001b[38;5;124mQuestion Identifier\u001b[39m\u001b[38;5;124m\"\u001b[39m),\n\u001b[1;32m     14\u001b[0m     pl\u001b[38;5;241m.\u001b[39mcol(\u001b[38;5;124m\"\u001b[39m\u001b[38;5;124mNeeds Reverse Coding?\u001b[39m\u001b[38;5;124m\"\u001b[39m)\u001b[38;5;241m.\u001b[39mstr\u001b[38;5;241m.\u001b[39mstrip()\u001b[38;5;241m.\u001b[39malias(\u001b[38;5;124m\"\u001b[39m\u001b[38;5;124mNeeds Reverse Coding\u001b[39m\u001b[38;5;124m\"\u001b[39m)\n\u001b[1;32m     15\u001b[0m ])\n\u001b[1;32m     17\u001b[0m \u001b[38;5;66;03m# Melt the health survey dataframe to long format\u001b[39;00m\n\u001b[1;32m     18\u001b[0m health_survey_long \u001b[38;5;241m=\u001b[39m health_survey\u001b[38;5;241m.\u001b[39mmelt(id_vars\u001b[38;5;241m=\u001b[39m[\u001b[38;5;124m'\u001b[39m\u001b[38;5;124m'\u001b[39m], \n\u001b[1;32m     19\u001b[0m                                         value_vars\u001b[38;5;241m=\u001b[39mhealth_survey\u001b[38;5;241m.\u001b[39mcolumns[\u001b[38;5;241m1\u001b[39m:], \u001b[38;5;66;03m# Exclude the first empty column\u001b[39;00m\n\u001b[1;32m     20\u001b[0m                                         variable_name\u001b[38;5;241m=\u001b[39m\u001b[38;5;124m'\u001b[39m\u001b[38;5;124mQuestion Identifier\u001b[39m\u001b[38;5;124m'\u001b[39m, \n\u001b[1;32m     21\u001b[0m                                         value_name\u001b[38;5;241m=\u001b[39m\u001b[38;5;124m'\u001b[39m\u001b[38;5;124mQuestion Response\u001b[39m\u001b[38;5;124m'\u001b[39m)\n",
      "\u001b[0;31mAttributeError\u001b[0m: 'ExprStringNameSpace' object has no attribute 'strip'"
     ]
    }
   ],
   "source": [
    "import polars as pl\n",
    "\n",
    "# Load the health survey and reverse coding items CSVs with correct file paths\n",
    "health_survey = pl.read_csv(\"./health_survey.csv\")\n",
    "reverse_coding_items = pl.read_csv(\"./ReverseCodingItems.csv\")\n",
    "\n",
    "# Select the appropriate columns based on their actual names\n",
    "# Adjusting based on the names found in the reverse coding items file\n",
    "reverse_coding_items = reverse_coding_items.select([\"Question\", \"Needs Reverse Coding?\"])\n",
    "\n",
    "# Strip whitespaces and clean the columns in reverse coding\n",
    "reverse_coding_items = reverse_coding_items.with_columns([\n",
    "    pl.col(\"Question\").str.strip().alias(\"Question Identifier\"),\n",
    "    pl.col(\"Needs Reverse Coding?\").str.strip().alias(\"Needs Reverse Coding\")\n",
    "])\n",
    "\n",
    "# Melt the health survey dataframe to long format\n",
    "health_survey_long = health_survey.melt(id_vars=[''], \n",
    "                                        value_vars=health_survey.columns[1:], # Exclude the first empty column\n",
    "                                        variable_name='Question Identifier', \n",
    "                                        value_name='Question Response')\n",
    "\n",
    "# Merge with the reverse coding items based on the Question Identifier\n",
    "merged_data = health_survey_long.join(reverse_coding_items, on=\"Question Identifier\", how=\"left\")\n",
    "\n",
    "# Define the recoding values\n",
    "recoding_dict = {\n",
    "    \"Strongly Disagree\": 1,\n",
    "    \"Somewhat Disagree\": 2,\n",
    "    \"Neither Agree nor Disagree\": 3,\n",
    "    \"Somewhat Agree\": 4,\n",
    "    \"Strongly Agree\": 5\n",
    "}\n",
    "\n",
    "reverse_recoding_dict = {\n",
    "    \"Strongly Disagree\": 5,\n",
    "    \"Somewhat Disagree\": 4,\n",
    "    \"Neither Agree nor Disagree\": 3,\n",
    "    \"Somewhat Agree\": 2,\n",
    "    \"Strongly Agree\": 1\n",
    "}\n",
    "\n",
    "# Apply the recoding\n",
    "def recode_values(response, reverse=False):\n",
    "    if reverse:\n",
    "        return reverse_recoding_dict.get(response, None)\n",
    "    else:\n",
    "        return recoding_dict.get(response, None)\n",
    "\n",
    "# Create new columns for regular and reverse coded values\n",
    "merged_data = merged_data.with_columns([\n",
    "    pl.col(\"Question Response\").apply(lambda x: recode_values(x, reverse=False)).alias(\"Temp Coded Value\"),\n",
    "    pl.col(\"Question Response\").apply(lambda x: recode_values(x, reverse=True)).alias(\"Temp Reverse Coded Value\")\n",
    "])\n",
    "\n",
    "# Use a case-when statement to select the correct recoded value based on reverse coding requirement\n",
    "merged_data = merged_data.with_columns(\n",
    "    pl.when(pl.col(\"Needs Reverse Coding\") == \"Yes\")\n",
    "      .then(pl.col(\"Temp Reverse Coded Value\"))\n",
    "      .otherwise(pl.col(\"Temp Coded Value\"))\n",
    "      .alias(\"Recoded Value\")\n",
    ")"
   ]
  },
  {
   "cell_type": "code",
   "execution_count": null,
   "id": "bcdba781-77e0-4db4-baf8-cc1fc1e2b7c2",
   "metadata": {},
   "outputs": [],
   "source": []
  }
 ],
 "metadata": {
  "kernelspec": {
   "display_name": "Python 3 (ipykernel)",
   "language": "python",
   "name": "python3"
  },
  "language_info": {
   "codemirror_mode": {
    "name": "ipython",
    "version": 3
   },
   "file_extension": ".py",
   "mimetype": "text/x-python",
   "name": "python",
   "nbconvert_exporter": "python",
   "pygments_lexer": "ipython3",
   "version": "3.12.4"
  }
 },
 "nbformat": 4,
 "nbformat_minor": 5
}
