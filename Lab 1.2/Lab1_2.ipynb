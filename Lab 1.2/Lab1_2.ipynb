{
 "cells": [
  {
   "cell_type": "code",
   "execution_count": null,
   "id": "ac91b562-1f28-414d-9385-90c2f58b685d",
   "metadata": {},
   "outputs": [],
   "source": [
    "import polars as pl\n",
    "\n",
    "# Load data\n",
    "df = pl.read_csv(\"data/health_survey.csv\")\n",
    "reverse_df = pl.read_csv(\"data/ReverseCodingItems.csv\")\n",
    "\n",
    "# Define reverse coding mapping\n",
    "reverse_map = {\n",
    "    \"Strongly Disagree\": 5,\n",
    "    \"Somewhat Disagree\": 4,\n",
    "    \"Neither Agree nor Disagree\": 3,\n",
    "    \"Somewhat Agree\": 2,\n",
    "    \"Strongly Agree\": 1\n",
    "}\n",
    "\n",
    "# Apply reverse coding where necessary\n",
    "df = df.with_columns([\n",
    "    pl.when(reverse_df[\"Needs Reverse Coding\"] == \"Yes\")\n",
    "    .then(pl.col(\"Response\").map_dict(reverse_map))\n",
    "    .otherwise(pl.col(\"Response\").cast(int))\n",
    "    .alias(\"Recoded Value\")\n",
    "])\n",
    "\n",
    "# Create Temp Coded and Reverse Coded Value columns\n",
    "df = df.with_columns([\n",
    "    pl.col(\"Response\").map_dict({\n",
    "        \"Strongly Disagree\": 1,\n",
    "        \"Somewhat Disagree\": 2,\n",
    "        \"Neither Agree nor Disagree\": 3,\n",
    "        \"Somewhat Agree\": 4,\n",
    "        \"Strongly Agree\": 5\n",
    "    }).alias(\"Temp Coded Value\"),\n",
    "    pl.when(pl.col(\"Needs Reverse\") == \"Yes\")\n",
    "    .then(pl.col(\"Response\").map_dict(reverse_map))\n",
    "    .otherwise(pl.col(\"Temp Coded Value\"))\n",
    "    .alias(\"Final Coded Value\")\n",
    "])\n",
    "\n",
    "# Recategorize question types\n",
    "df = df.with_columns([\n",
    "    pl.col(\"Question Type\").map_dict({\n",
    "        \"Type1\": \"F1\",\n",
    "        \"Type2\": \"F2\",\n",
    "        \"Type3\": \"F3\",\n",
    "        # Add remaining mappings here\n",
    "    }).alias(\"Recoded Question Type\")\n",
    "])\n",
    "\n",
    "# Write to CSV\n",
    "df.write_csv(\"data/health_survey_summary.csv\")"
   ]
  }
 ],
 "metadata": {
  "kernelspec": {
   "display_name": "Python 3 (ipykernel)",
   "language": "python",
   "name": "python3"
  },
  "language_info": {
   "codemirror_mode": {
    "name": "ipython",
    "version": 3
   },
   "file_extension": ".py",
   "mimetype": "text/x-python",
   "name": "python",
   "nbconvert_exporter": "python",
   "pygments_lexer": "ipython3",
   "version": "3.12.4"
  }
 },
 "nbformat": 4,
 "nbformat_minor": 5
}
