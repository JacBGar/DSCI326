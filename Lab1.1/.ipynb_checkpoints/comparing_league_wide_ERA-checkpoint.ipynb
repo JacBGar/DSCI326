{
 "cells": [
  {
   "cell_type": "code",
   "execution_count": 17,
   "id": "b26ba4fc-df5f-4a6e-97e7-1fae67077336",
   "metadata": {
    "scrolled": true
   },
   "outputs": [
    {
     "name": "stdout",
     "output_type": "stream",
     "text": [
      "/Users/jacobgareis/Downloads/DSCI326/DSCI326/Lab1.1\n",
      "['AwardsManagers.csv', 'Managers.csv', 'AwardsPlayers.csv', 'Fielding.csv', 'Salaries.csv', 'Parks.csv', 'Schools.csv', 'People.csv', 'PitchingPost.csv', 'Teams.csv', 'Appearances.csv', 'AwardsSharePlayers.csv', 'TeamsFranchises.csv', 'Batting.csv', 'ManagersHalf.csv', 'FieldingOF.csv', 'Pitching.csv', 'CollegePlaying.csv', 'HomeGames.csv', 'HallOfFame.csv', 'AwardsShareManagers.csv', 'BattingPost.csv', 'TeamsHalf.csv', 'SeriesPost.csv', 'FieldingPost.csv', 'AllstarFull.csv', 'FieldingOFsplit.csv']\n"
     ]
    }
   ],
   "source": [
    "import os\n",
    "\n",
    "print(os.getcwd())\n",
    "\n",
    "print(os.listdir('./data/lahman_1871-2023_csv/'))\n",
    "\n",
    "file_path = './data/lahman_1871-2023_csv/Pitching.csv'\n",
    "df = pd.read_csv(file_path)"
   ]
  },
  {
   "cell_type": "code",
   "execution_count": 47,
   "id": "e1d67e6b-20b6-4a59-a54c-0ca12fcc2448",
   "metadata": {},
   "outputs": [],
   "source": [
    "import polars as pl\n",
    "\n",
    "pitching_df = pl.read_csv(\"./data/lahman_1871-2023_csv/Pitching.csv\")\n",
    "batting_df = pl.read_csv(\"./data/lahman_1871-2023_csv/Batting.csv\")\n",
    "\n",
    "pitching_df = pitching_df.filter(pl.col('yearID') >= 1946)\n",
    "\n",
    "grouped_pitching = pitching_df.group_by(['yearID', 'lgID']).agg([\n",
    "    pl.col('R').sum().alias('Total_Runs_Allowed'),\n",
    "    pl.col('IPouts').sum().alias('Total_Outs')\n",
    "])\n",
    "\n",
    "grouped_pitching = grouped_pitching.with_columns(\n",
    "    pl.when(\n",
    "        (pl.col('lgID') == 'AL') & (pl.col('yearID') >= 1973)\n",
    "    ).then(pl.lit('Yes')).when(\n",
    "        (pl.col('lgID') == 'NL') & (pl.col('yearID').is_in([2020]) | (pl.col('yearID') >= 2022))\n",
    "    ).then(pl.lit('Yes')).otherwise(pl.lit('No')).alias('DH_Rule')\n",
    ")\n",
    "\n",
    "grouped_pitching = grouped_pitching.with_columns(\n",
    "    (pl.col('Total_Runs_Allowed') / pl.col('Total_Outs') * 27).alias('ERA')\n",
    ")\n",
    "\n",
    "grouped_pitching.write_csv(\"./data/lahman_1871-2023_csv/League_Wide_ERA.csv\")\n",
    "\n",
    "batting_df = batting_df.filter(pl.col('yearID') >= 1946)\n",
    "\n",
    "grouped_batting = batting_df.group_by(['yearID', 'lgID']).agg([\n",
    "    pl.col('H').sum().alias('Total_Hits'),\n",
    "    pl.col('2B').sum().alias('Total_Doubles'),\n",
    "    pl.col('3B').sum().alias('Total_Triples'),\n",
    "    pl.col('HR').sum().alias('Total_Home_Runs'),\n",
    "    pl.col('AB').sum().alias('Total_At_Bats')\n",
    "])\n",
    "\n",
    "grouped_batting = grouped_batting.with_columns(\n",
    "    pl.when(\n",
    "        (pl.col('lgID') == 'AL') & (pl.col('yearID') >= 1973)\n",
    "    ).then(pl.lit('Yes')).when(\n",
    "        (pl.col('lgID') == 'NL') & (pl.col('yearID').is_in([2020]) | (pl.col('yearID') >= 2022))\n",
    "    ).then(pl.lit('Yes')).otherwise(pl.lit('No')).alias('DH_Rule')\n",
    ")\n",
    "\n",
    "grouped_batting = grouped_batting.with_columns(\n",
    "    (\n",
    "        (pl.col('Total_Hits') - pl.col('Total_Doubles') - pl.col('Total_Triples') - pl.col('Total_Home_Runs')) + \n",
    "        2 * pl.col('Total_Doubles') + \n",
    "        3 * pl.col('Total_Triples') + \n",
    "        4 * pl.col('Total_Home_Runs')\n",
    "    ) / pl.col('Total_At_Bats').alias('Slugging_Percentage')\n",
    ")\n",
    "\n",
    "grouped_batting.write_csv(\"./data/lahman_1871-2023_csv/League_Wide_Slugging_Percentage_V2.csv\")"
   ]
  },
  {
   "cell_type": "code",
   "execution_count": 44,
   "id": "c220e77b-0fa1-43fc-8066-5fadc5b6b2ba",
   "metadata": {},
   "outputs": [
    {
     "data": {
      "text/html": [
       "<div><style>\n",
       ".dataframe > thead > tr,\n",
       ".dataframe > tbody > tr {\n",
       "  text-align: right;\n",
       "  white-space: pre-wrap;\n",
       "}\n",
       "</style>\n",
       "<small>shape: (81_732, 24)</small><table border=\"1\" class=\"dataframe\"><thead><tr><th>playerID</th><th>yearID</th><th>stint</th><th>teamID</th><th>lgID</th><th>G</th><th>G_batting</th><th>AB</th><th>R</th><th>H</th><th>2B</th><th>3B</th><th>HR</th><th>RBI</th><th>SB</th><th>CS</th><th>BB</th><th>SO</th><th>IBB</th><th>HBP</th><th>SH</th><th>SF</th><th>GIDP</th><th>G_old</th></tr><tr><td>str</td><td>i64</td><td>i64</td><td>str</td><td>str</td><td>i64</td><td>i64</td><td>i64</td><td>i64</td><td>i64</td><td>i64</td><td>i64</td><td>i64</td><td>i64</td><td>i64</td><td>i64</td><td>i64</td><td>i64</td><td>i64</td><td>i64</td><td>i64</td><td>i64</td><td>i64</td><td>str</td></tr></thead><tbody><tr><td>&quot;aardsda01&quot;</td><td>2004</td><td>1</td><td>&quot;SFN&quot;</td><td>&quot;NL&quot;</td><td>11</td><td>null</td><td>0</td><td>0</td><td>0</td><td>0</td><td>0</td><td>0</td><td>0</td><td>0</td><td>0</td><td>0</td><td>0</td><td>0</td><td>0</td><td>0</td><td>0</td><td>0</td><td>null</td></tr><tr><td>&quot;aardsda01&quot;</td><td>2006</td><td>1</td><td>&quot;CHN&quot;</td><td>&quot;NL&quot;</td><td>45</td><td>null</td><td>2</td><td>0</td><td>0</td><td>0</td><td>0</td><td>0</td><td>0</td><td>0</td><td>0</td><td>0</td><td>0</td><td>0</td><td>0</td><td>1</td><td>0</td><td>0</td><td>null</td></tr><tr><td>&quot;aardsda01&quot;</td><td>2007</td><td>1</td><td>&quot;CHA&quot;</td><td>&quot;AL&quot;</td><td>25</td><td>null</td><td>0</td><td>0</td><td>0</td><td>0</td><td>0</td><td>0</td><td>0</td><td>0</td><td>0</td><td>0</td><td>0</td><td>0</td><td>0</td><td>0</td><td>0</td><td>0</td><td>null</td></tr><tr><td>&quot;aardsda01&quot;</td><td>2008</td><td>1</td><td>&quot;BOS&quot;</td><td>&quot;AL&quot;</td><td>47</td><td>null</td><td>1</td><td>0</td><td>0</td><td>0</td><td>0</td><td>0</td><td>0</td><td>0</td><td>0</td><td>0</td><td>1</td><td>0</td><td>0</td><td>0</td><td>0</td><td>0</td><td>null</td></tr><tr><td>&quot;aardsda01&quot;</td><td>2009</td><td>1</td><td>&quot;SEA&quot;</td><td>&quot;AL&quot;</td><td>73</td><td>null</td><td>0</td><td>0</td><td>0</td><td>0</td><td>0</td><td>0</td><td>0</td><td>0</td><td>0</td><td>0</td><td>0</td><td>0</td><td>0</td><td>0</td><td>0</td><td>0</td><td>null</td></tr><tr><td>&hellip;</td><td>&hellip;</td><td>&hellip;</td><td>&hellip;</td><td>&hellip;</td><td>&hellip;</td><td>&hellip;</td><td>&hellip;</td><td>&hellip;</td><td>&hellip;</td><td>&hellip;</td><td>&hellip;</td><td>&hellip;</td><td>&hellip;</td><td>&hellip;</td><td>&hellip;</td><td>&hellip;</td><td>&hellip;</td><td>&hellip;</td><td>&hellip;</td><td>&hellip;</td><td>&hellip;</td><td>&hellip;</td><td>&hellip;</td></tr><tr><td>&quot;zuverge01&quot;</td><td>1958</td><td>1</td><td>&quot;BAL&quot;</td><td>&quot;AL&quot;</td><td>45</td><td>null</td><td>9</td><td>0</td><td>2</td><td>0</td><td>1</td><td>0</td><td>2</td><td>0</td><td>0</td><td>1</td><td>2</td><td>0</td><td>0</td><td>0</td><td>0</td><td>0</td><td>null</td></tr><tr><td>&quot;zuverge01&quot;</td><td>1959</td><td>1</td><td>&quot;BAL&quot;</td><td>&quot;AL&quot;</td><td>6</td><td>null</td><td>0</td><td>0</td><td>0</td><td>0</td><td>0</td><td>0</td><td>0</td><td>0</td><td>0</td><td>2</td><td>0</td><td>0</td><td>0</td><td>0</td><td>0</td><td>0</td><td>null</td></tr><tr><td>&quot;zychto01&quot;</td><td>2015</td><td>1</td><td>&quot;SEA&quot;</td><td>&quot;AL&quot;</td><td>13</td><td>null</td><td>0</td><td>0</td><td>0</td><td>0</td><td>0</td><td>0</td><td>0</td><td>0</td><td>0</td><td>0</td><td>0</td><td>0</td><td>0</td><td>0</td><td>0</td><td>0</td><td>null</td></tr><tr><td>&quot;zychto01&quot;</td><td>2016</td><td>1</td><td>&quot;SEA&quot;</td><td>&quot;AL&quot;</td><td>12</td><td>null</td><td>0</td><td>0</td><td>0</td><td>0</td><td>0</td><td>0</td><td>0</td><td>0</td><td>0</td><td>0</td><td>0</td><td>0</td><td>0</td><td>0</td><td>0</td><td>0</td><td>null</td></tr><tr><td>&quot;zychto01&quot;</td><td>2017</td><td>1</td><td>&quot;SEA&quot;</td><td>&quot;AL&quot;</td><td>45</td><td>null</td><td>0</td><td>0</td><td>0</td><td>0</td><td>0</td><td>0</td><td>0</td><td>0</td><td>0</td><td>0</td><td>0</td><td>0</td><td>0</td><td>0</td><td>0</td><td>0</td><td>null</td></tr></tbody></table></div>"
      ],
      "text/plain": [
       "shape: (81_732, 24)\n",
       "┌───────────┬────────┬───────┬────────┬───┬─────┬─────┬──────┬───────┐\n",
       "│ playerID  ┆ yearID ┆ stint ┆ teamID ┆ … ┆ SH  ┆ SF  ┆ GIDP ┆ G_old │\n",
       "│ ---       ┆ ---    ┆ ---   ┆ ---    ┆   ┆ --- ┆ --- ┆ ---  ┆ ---   │\n",
       "│ str       ┆ i64    ┆ i64   ┆ str    ┆   ┆ i64 ┆ i64 ┆ i64  ┆ str   │\n",
       "╞═══════════╪════════╪═══════╪════════╪═══╪═════╪═════╪══════╪═══════╡\n",
       "│ aardsda01 ┆ 2004   ┆ 1     ┆ SFN    ┆ … ┆ 0   ┆ 0   ┆ 0    ┆ null  │\n",
       "│ aardsda01 ┆ 2006   ┆ 1     ┆ CHN    ┆ … ┆ 1   ┆ 0   ┆ 0    ┆ null  │\n",
       "│ aardsda01 ┆ 2007   ┆ 1     ┆ CHA    ┆ … ┆ 0   ┆ 0   ┆ 0    ┆ null  │\n",
       "│ aardsda01 ┆ 2008   ┆ 1     ┆ BOS    ┆ … ┆ 0   ┆ 0   ┆ 0    ┆ null  │\n",
       "│ aardsda01 ┆ 2009   ┆ 1     ┆ SEA    ┆ … ┆ 0   ┆ 0   ┆ 0    ┆ null  │\n",
       "│ …         ┆ …      ┆ …     ┆ …      ┆ … ┆ …   ┆ …   ┆ …    ┆ …     │\n",
       "│ zuverge01 ┆ 1958   ┆ 1     ┆ BAL    ┆ … ┆ 0   ┆ 0   ┆ 0    ┆ null  │\n",
       "│ zuverge01 ┆ 1959   ┆ 1     ┆ BAL    ┆ … ┆ 0   ┆ 0   ┆ 0    ┆ null  │\n",
       "│ zychto01  ┆ 2015   ┆ 1     ┆ SEA    ┆ … ┆ 0   ┆ 0   ┆ 0    ┆ null  │\n",
       "│ zychto01  ┆ 2016   ┆ 1     ┆ SEA    ┆ … ┆ 0   ┆ 0   ┆ 0    ┆ null  │\n",
       "│ zychto01  ┆ 2017   ┆ 1     ┆ SEA    ┆ … ┆ 0   ┆ 0   ┆ 0    ┆ null  │\n",
       "└───────────┴────────┴───────┴────────┴───┴─────┴─────┴──────┴───────┘"
      ]
     },
     "execution_count": 44,
     "metadata": {},
     "output_type": "execute_result"
    }
   ],
   "source": [
    "batting_df"
   ]
  },
  {
   "cell_type": "code",
   "execution_count": null,
   "id": "046a6e37-fe65-45d3-b98f-5ed23baff469",
   "metadata": {},
   "outputs": [],
   "source": []
  }
 ],
 "metadata": {
  "kernelspec": {
   "display_name": "Python 3 (ipykernel)",
   "language": "python",
   "name": "python3"
  },
  "language_info": {
   "codemirror_mode": {
    "name": "ipython",
    "version": 3
   },
   "file_extension": ".py",
   "mimetype": "text/x-python",
   "name": "python",
   "nbconvert_exporter": "python",
   "pygments_lexer": "ipython3",
   "version": "3.12.5"
  }
 },
 "nbformat": 4,
 "nbformat_minor": 5
}
