{
 "cells": [
  {
   "cell_type": "code",
   "execution_count": 17,
   "id": "b26ba4fc-df5f-4a6e-97e7-1fae67077336",
   "metadata": {
    "scrolled": true
   },
   "outputs": [
    {
     "name": "stdout",
     "output_type": "stream",
     "text": [
      "/Users/jacobgareis/Downloads/DSCI326/DSCI326/Lab1.1\n",
      "['AwardsManagers.csv', 'Managers.csv', 'AwardsPlayers.csv', 'Fielding.csv', 'Salaries.csv', 'Parks.csv', 'Schools.csv', 'People.csv', 'PitchingPost.csv', 'Teams.csv', 'Appearances.csv', 'AwardsSharePlayers.csv', 'TeamsFranchises.csv', 'Batting.csv', 'ManagersHalf.csv', 'FieldingOF.csv', 'Pitching.csv', 'CollegePlaying.csv', 'HomeGames.csv', 'HallOfFame.csv', 'AwardsShareManagers.csv', 'BattingPost.csv', 'TeamsHalf.csv', 'SeriesPost.csv', 'FieldingPost.csv', 'AllstarFull.csv', 'FieldingOFsplit.csv']\n"
     ]
    }
   ],
   "source": [
    "import os\n",
    "\n",
    "print(os.getcwd())\n",
    "\n",
    "print(os.listdir('./data/lahman_1871-2023_csv/'))\n",
    "\n",
    "file_path = './data/lahman_1871-2023_csv/Pitching.csv'\n",
    "df = pd.read_csv(file_path)"
   ]
  },
  {
   "cell_type": "code",
   "execution_count": 53,
   "id": "e1d67e6b-20b6-4a59-a54c-0ca12fcc2448",
   "metadata": {},
   "outputs": [],
   "source": [
    "import polars as pl\n",
    "\n",
    "# Load the pitching and batting data\n",
    "pitching_df = pl.read_csv(\"./data/lahman_1871-2023_csv/Pitching.csv\")\n",
    "batting_df = pl.read_csv(\"./data/lahman_1871-2023_csv/Batting.csv\")\n",
    "\n",
    "# Filter the pitching data for years >= 1946\n",
    "pitching_df = pitching_df.filter(pl.col('yearID') >= 1946)\n",
    "\n",
    "# Group and aggregate the pitching data\n",
    "grouped_pitching = pitching_df.group_by(['yearID', 'lgID']).agg([\n",
    "    pl.col('R').sum().alias('Total_Runs_Allowed'),\n",
    "    pl.col('IPouts').sum().alias('Total_Outs')\n",
    "])\n",
    "\n",
    "# Add DH Rule column to the pitching data\n",
    "grouped_pitching = grouped_pitching.with_columns(\n",
    "    pl.when(\n",
    "        (pl.col('lgID') == 'AL') & (pl.col('yearID') >= 1973)\n",
    "    ).then(pl.lit('Yes')).when(\n",
    "        (pl.col('lgID') == 'NL') & (pl.col('yearID').is_in([2020]) | (pl.col('yearID') >= 2022))\n",
    "    ).then(pl.lit('Yes')).otherwise(pl.lit('No')).alias('DH_Rule')\n",
    ")\n",
    "\n",
    "# Calculate ERA for the pitching data\n",
    "grouped_pitching = grouped_pitching.with_columns(\n",
    "    (pl.col('Total_Runs_Allowed') / pl.col('Total_Outs') * 27).alias('ERA')\n",
    ")\n",
    "\n",
    "# Write the grouped pitching data to a CSV file\n",
    "grouped_pitching.write_csv(\"./data/lahman_1871-2023_csv/League_Wide_ERA.csv\")\n",
    "\n",
    "# Filter the batting data for years >= 1946\n",
    "batting_df = batting_df.filter(pl.col('yearID') >= 1946)\n",
    "\n",
    "# Group and aggregate the batting data\n",
    "grouped_batting = batting_df.group_by(['yearID', 'lgID']).agg([\n",
    "    pl.col('H').sum().alias('Total_Hits'),\n",
    "    pl.col('2B').sum().alias('Total_Doubles'),\n",
    "    pl.col('3B').sum().alias('Total_Triples'),\n",
    "    pl.col('HR').sum().alias('Total_Home_Runs'),\n",
    "    pl.col('AB').sum().alias('Total_At_Bats')\n",
    "])\n",
    "\n",
    "# Add DH Rule column to the batting data\n",
    "grouped_batting = grouped_batting.with_columns(\n",
    "    pl.when(\n",
    "        (pl.col('lgID') == 'AL') & (pl.col('yearID') >= 1973)\n",
    "    ).then(pl.lit('Yes')).when(\n",
    "        (pl.col('lgID') == 'NL') & (pl.col('yearID').is_in([2020]) | (pl.col('yearID') >= 2022))\n",
    "    ).then(pl.lit('Yes')).otherwise(pl.lit('No')).alias('DH_Rule')\n",
    ")\n",
    "\n",
    "# Calculate Slugging Percentage for the batting data\n",
    "grouped_batting = grouped_batting.with_columns(\n",
    "    (\n",
    "        (pl.col('Total_Hits') - pl.col('Total_Doubles') - pl.col('Total_Triples') - pl.col('Total_Home_Runs')) + \n",
    "        2 * pl.col('Total_Doubles') + \n",
    "        3 * pl.col('Total_Triples') + \n",
    "        4 * pl.col('Total_Home_Runs')\n",
    "    ).alias('Slugging_Percentage') / pl.col('Total_At_Bats')\n",
    ")\n",
    "\n",
    "# Write the grouped batting data to a CSV file\n",
    "grouped_batting.write_csv(\"./data/lahman_1871-2023_csv/League_Wide_Slugging_PercentageV6.csv\")"
   ]
  },
  {
   "cell_type": "code",
   "execution_count": 52,
   "id": "c220e77b-0fa1-43fc-8066-5fadc5b6b2ba",
   "metadata": {},
   "outputs": [
    {
     "data": {
      "text/html": [
       "<div><style>\n",
       ".dataframe > thead > tr,\n",
       ".dataframe > tbody > tr {\n",
       "  text-align: right;\n",
       "  white-space: pre-wrap;\n",
       "}\n",
       "</style>\n",
       "<small>shape: (156, 9)</small><table border=\"1\" class=\"dataframe\"><thead><tr><th>yearID</th><th>lgID</th><th>Total_Hits</th><th>Total_Doubles</th><th>Total_Triples</th><th>Total_Home_Runs</th><th>Total_At_Bats</th><th>DH_Rule</th><th>Slugging_Percentage</th></tr><tr><td>i64</td><td>str</td><td>i64</td><td>i64</td><td>i64</td><td>i64</td><td>i64</td><td>str</td><td>f64</td></tr></thead><tbody><tr><td>1959</td><td>&quot;NL&quot;</td><td>11015</td><td>1788</td><td>324</td><td>1159</td><td>42330</td><td>&quot;No&quot;</td><td>0.399906</td></tr><tr><td>2020</td><td>&quot;NL&quot;</td><td>7245</td><td>1402</td><td>126</td><td>1161</td><td>29399</td><td>&quot;Yes&quot;</td><td>0.421171</td></tr><tr><td>1975</td><td>&quot;NL&quot;</td><td>17002</td><td>2781</td><td>458</td><td>1233</td><td>66102</td><td>&quot;No&quot;</td><td>0.369096</td></tr><tr><td>1997</td><td>&quot;AL&quot;</td><td>21171</td><td>4097</td><td>398</td><td>2477</td><td>78235</td><td>&quot;Yes&quot;</td><td>0.428133</td></tr><tr><td>1963</td><td>&quot;NL&quot;</td><td>13434</td><td>1984</td><td>439</td><td>1215</td><td>54803</td><td>&quot;No&quot;</td><td>0.363867</td></tr><tr><td>&hellip;</td><td>&hellip;</td><td>&hellip;</td><td>&hellip;</td><td>&hellip;</td><td>&hellip;</td><td>&hellip;</td><td>&hellip;</td><td>&hellip;</td></tr><tr><td>1992</td><td>&quot;NL&quot;</td><td>16538</td><td>2967</td><td>459</td><td>1262</td><td>65748</td><td>&quot;No&quot;</td><td>0.368209</td></tr><tr><td>2018</td><td>&quot;NL&quot;</td><td>20403</td><td>3993</td><td>457</td><td>2685</td><td>82722</td><td>&quot;No&quot;</td><td>0.403339</td></tr><tr><td>1988</td><td>&quot;NL&quot;</td><td>16277</td><td>2828</td><td>415</td><td>1279</td><td>65563</td><td>&quot;No&quot;</td><td>0.362583</td></tr><tr><td>2019</td><td>&quot;AL&quot;</td><td>21154</td><td>4318</td><td>385</td><td>3478</td><td>83557</td><td>&quot;Yes&quot;</td><td>0.438934</td></tr><tr><td>2005</td><td>&quot;NL&quot;</td><td>23058</td><td>4754</td><td>468</td><td>2580</td><td>88120</td><td>&quot;No&quot;</td><td>0.414072</td></tr></tbody></table></div>"
      ],
      "text/plain": [
       "shape: (156, 9)\n",
       "┌────────┬──────┬────────────┬─────────────┬───┬─────────────┬─────────────┬─────────┬─────────────┐\n",
       "│ yearID ┆ lgID ┆ Total_Hits ┆ Total_Doubl ┆ … ┆ Total_Home_ ┆ Total_At_Ba ┆ DH_Rule ┆ Slugging_Pe │\n",
       "│ ---    ┆ ---  ┆ ---        ┆ es          ┆   ┆ Runs        ┆ ts          ┆ ---     ┆ rcentage    │\n",
       "│ i64    ┆ str  ┆ i64        ┆ ---         ┆   ┆ ---         ┆ ---         ┆ str     ┆ ---         │\n",
       "│        ┆      ┆            ┆ i64         ┆   ┆ i64         ┆ i64         ┆         ┆ f64         │\n",
       "╞════════╪══════╪════════════╪═════════════╪═══╪═════════════╪═════════════╪═════════╪═════════════╡\n",
       "│ 1959   ┆ NL   ┆ 11015      ┆ 1788        ┆ … ┆ 1159        ┆ 42330       ┆ No      ┆ 0.399906    │\n",
       "│ 2020   ┆ NL   ┆ 7245       ┆ 1402        ┆ … ┆ 1161        ┆ 29399       ┆ Yes     ┆ 0.421171    │\n",
       "│ 1975   ┆ NL   ┆ 17002      ┆ 2781        ┆ … ┆ 1233        ┆ 66102       ┆ No      ┆ 0.369096    │\n",
       "│ 1997   ┆ AL   ┆ 21171      ┆ 4097        ┆ … ┆ 2477        ┆ 78235       ┆ Yes     ┆ 0.428133    │\n",
       "│ 1963   ┆ NL   ┆ 13434      ┆ 1984        ┆ … ┆ 1215        ┆ 54803       ┆ No      ┆ 0.363867    │\n",
       "│ …      ┆ …    ┆ …          ┆ …           ┆ … ┆ …           ┆ …           ┆ …       ┆ …           │\n",
       "│ 1992   ┆ NL   ┆ 16538      ┆ 2967        ┆ … ┆ 1262        ┆ 65748       ┆ No      ┆ 0.368209    │\n",
       "│ 2018   ┆ NL   ┆ 20403      ┆ 3993        ┆ … ┆ 2685        ┆ 82722       ┆ No      ┆ 0.403339    │\n",
       "│ 1988   ┆ NL   ┆ 16277      ┆ 2828        ┆ … ┆ 1279        ┆ 65563       ┆ No      ┆ 0.362583    │\n",
       "│ 2019   ┆ AL   ┆ 21154      ┆ 4318        ┆ … ┆ 3478        ┆ 83557       ┆ Yes     ┆ 0.438934    │\n",
       "│ 2005   ┆ NL   ┆ 23058      ┆ 4754        ┆ … ┆ 2580        ┆ 88120       ┆ No      ┆ 0.414072    │\n",
       "└────────┴──────┴────────────┴─────────────┴───┴─────────────┴─────────────┴─────────┴─────────────┘"
      ]
     },
     "execution_count": 52,
     "metadata": {},
     "output_type": "execute_result"
    }
   ],
   "source": [
    "grouped_batting"
   ]
  },
  {
   "cell_type": "code",
   "execution_count": null,
   "id": "046a6e37-fe65-45d3-b98f-5ed23baff469",
   "metadata": {},
   "outputs": [],
   "source": []
  }
 ],
 "metadata": {
  "kernelspec": {
   "display_name": "Python 3 (ipykernel)",
   "language": "python",
   "name": "python3"
  },
  "language_info": {
   "codemirror_mode": {
    "name": "ipython",
    "version": 3
   },
   "file_extension": ".py",
   "mimetype": "text/x-python",
   "name": "python",
   "nbconvert_exporter": "python",
   "pygments_lexer": "ipython3",
   "version": "3.12.5"
  }
 },
 "nbformat": 4,
 "nbformat_minor": 5
}
