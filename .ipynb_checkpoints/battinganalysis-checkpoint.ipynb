{
  "nbformat": 4,
  "nbformat_minor": 0,
  "metadata": {
    "colab": {
      "provenance": [],
      "authorship_tag": "ABX9TyPcpcGjSrgIshP9Ij4eGpk3",
      "include_colab_link": true
    },
    "kernelspec": {
      "name": "ir",
      "display_name": "R"
    },
    "language_info": {
      "name": "R"
    }
  },
  "cells": [
    {
      "cell_type": "markdown",
      "metadata": {
        "id": "view-in-github",
        "colab_type": "text"
      },
      "source": [
        "<a href=\"https://colab.research.google.com/github/JacBGar/DSCI326/blob/main/battinganalysis.ipynb\" target=\"_parent\"><img src=\"https://colab.research.google.com/assets/colab-badge.svg\" alt=\"Open In Colab\"/></a>"
      ]
    },
    {
      "cell_type": "code",
      "execution_count": null,
      "metadata": {
        "id": "RMAqfsbpIjVN"
      },
      "outputs": [],
      "source": [
        "library(\"tidyverse\")\n",
        "\n",
        "batting <- read.csv(\"linktomygithub/commitsdontwork/Batting.csv\")\n",
        "\n",
        "batting %>% head"
      ]
    }
  ]
}